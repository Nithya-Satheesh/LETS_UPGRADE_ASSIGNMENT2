{
  "nbformat": 4,
  "nbformat_minor": 0,
  "metadata": {
    "colab": {
      "name": "LETS UPGRADE2.ipynb",
      "provenance": [],
      "collapsed_sections": [],
      "authorship_tag": "ABX9TyOpudZz4j0RzazDvF97ZWeX",
      "include_colab_link": true
    },
    "kernelspec": {
      "name": "python3",
      "display_name": "Python 3"
    }
  },
  "cells": [
    {
      "cell_type": "markdown",
      "metadata": {
        "id": "view-in-github",
        "colab_type": "text"
      },
      "source": [
        "<a href=\"https://colab.research.google.com/github/Nithya-Satheesh/LETS_UPGRADE_ASSIGNMENT2/blob/main/LETS_UPGRADE2.ipynb\" target=\"_parent\"><img src=\"https://colab.research.google.com/assets/colab-badge.svg\" alt=\"Open In Colab\"/></a>"
      ]
    },
    {
      "cell_type": "code",
      "metadata": {
        "id": "7r0YIXnvAaMu",
        "outputId": "c18cdbbe-d1c6-4488-8be5-f0b21b93d85e",
        "colab": {
          "base_uri": "https://localhost:8080/"
        }
      },
      "source": [
        "#QUESTION 1\n",
        "l = []\n",
        "\n",
        "for i in range(10):\n",
        "\tn = int(input())\n",
        "\tif n%2==0:\n",
        "\t\tl.append(n)\n",
        "print(l)\n",
        "\n"
      ],
      "execution_count": null,
      "outputs": [
        {
          "output_type": "stream",
          "text": [
            "12\n",
            "44\n",
            "76\n",
            "55\n",
            "34\n",
            "42\n",
            "33\n",
            "11\n",
            "55\n",
            "44\n",
            "[12, 44, 76, 34, 42, 44]\n"
          ],
          "name": "stdout"
        }
      ]
    },
    {
      "cell_type": "markdown",
      "metadata": {
        "id": "IfqUIENUJ3Wb"
      },
      "source": [
        "#QUESTION 2\n",
        "List comprehension is an elegant way to define and create lists based on existing lists. They make new lists where each element is the result of some operations applied to each member of another sequence or iterable, or to create a subsequence of those elements that satisfy a certain condition."
      ]
    },
    {
      "cell_type": "code",
      "metadata": {
        "id": "Q9QooYoSGXCv",
        "outputId": "c88d0952-860d-4c16-8da8-2786315b2277",
        "colab": {
          "base_uri": "https://localhost:8080/"
        }
      },
      "source": [
        "#Question 2\n",
        "squares = [n**2 for n in range(0,10)]\n",
        "\n",
        "print(squares) \n"
      ],
      "execution_count": null,
      "outputs": [
        {
          "output_type": "stream",
          "text": [
            "[0, 1, 4, 9, 16, 25, 36, 49, 64, 81]\n"
          ],
          "name": "stdout"
        }
      ]
    },
    {
      "cell_type": "code",
      "metadata": {
        "id": "Zj3RYoBDOqGf",
        "outputId": "11183273-717f-4fc0-d24a-9b43c2fbdf75",
        "colab": {
          "base_uri": "https://localhost:8080/"
        }
      },
      "source": [
        "#Question 3\n",
        "n=int(input())\n",
        "dict = {}\n",
        "for i in range(1,n+1):\n",
        "    dict[i]=i*i\n",
        "\n",
        "print(dict)"
      ],
      "execution_count": null,
      "outputs": [
        {
          "output_type": "stream",
          "text": [
            "8\n",
            "{1: 1, 2: 4, 3: 9, 4: 16, 5: 25, 6: 36, 7: 49, 8: 64}\n"
          ],
          "name": "stdout"
        }
      ]
    },
    {
      "cell_type": "code",
      "metadata": {
        "id": "h0pvxrQEHO-9",
        "outputId": "f2c34a76-74f1-4bf6-ae44-dcfcbc8a8b3b",
        "colab": {
          "base_uri": "https://localhost:8080/"
        }
      },
      "source": [
        "pos = {\"x\":0,\"y\":0}\n",
        "\n",
        "# getting movement from user\n",
        "n = int(input())\n",
        "\n",
        "# for loop\n",
        "for i in range (n):\n",
        "    move =  input().split(\" \")      # ACCEPT MOVEMENT COMMAND AND STORE AS A LIST\n",
        "    \n",
        "    if move[0].lower() == \"up\":     # EXTRACT DIRECTION AND COMPARE\n",
        "        pos[\"y\"] += int(move[1])    # INCREMENT/DECREMENT APPROPRIATE CO-ORDINATES\n",
        "    \n",
        "    elif move[0].lower() == \"down\":\n",
        "        pos[\"y\"] -= int(move[1])\n",
        "    \n",
        "    elif move[0].lower() == \"left\":\n",
        "        pos[\"x\"] -= int(move[1])\n",
        "    \n",
        "    elif move[0].lower() == \"right\":\n",
        "        pos[\"x\"] += int(move[1])\n",
        "\n",
        "#  printing the result\n",
        "\n",
        "print(int(round((pos[\"x\"]**2 + pos[\"y\"]**2)**0.5))) \n"
      ],
      "execution_count": 28,
      "outputs": [
        {
          "output_type": "stream",
          "text": [
            "4\n",
            "UP 5\n",
            "DOWN 3\n",
            "LEFT 3\n",
            "RIGHT 2\n",
            "2\n"
          ],
          "name": "stdout"
        }
      ]
    }
  ]
}